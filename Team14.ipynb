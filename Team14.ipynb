{
  "nbformat": 4,
  "nbformat_minor": 0,
  "metadata": {
    "colab": {
      "name": "Team14.ipynb",
      "provenance": [],
      "collapsed_sections": []
    },
    "kernelspec": {
      "name": "python3",
      "display_name": "Python 3"
    }
  },
  "cells": [
    {
      "cell_type": "markdown",
      "metadata": {
        "id": "-ThcTK3kSTVe"
      },
      "source": [
        "**Import files and packages**"
      ]
    },
    {
      "cell_type": "code",
      "metadata": {
        "id": "suJiQXp6cIjx"
      },
      "source": [
        "import pandas as pd\n",
        "import numpy as np\n",
        "import matplotlib.pyplot as plt"
      ],
      "execution_count": null,
      "outputs": []
    },
    {
      "cell_type": "code",
      "metadata": {
        "id": "mUgz4CVEe_s9",
        "outputId": "d586dd2c-3203-4a03-c6bc-063b3338eda1",
        "colab": {
          "resources": {
            "http://localhost:8080/nbextensions/google.colab/files.js": {
              "data": "Ly8gQ29weXJpZ2h0IDIwMTcgR29vZ2xlIExMQwovLwovLyBMaWNlbnNlZCB1bmRlciB0aGUgQXBhY2hlIExpY2Vuc2UsIFZlcnNpb24gMi4wICh0aGUgIkxpY2Vuc2UiKTsKLy8geW91IG1heSBub3QgdXNlIHRoaXMgZmlsZSBleGNlcHQgaW4gY29tcGxpYW5jZSB3aXRoIHRoZSBMaWNlbnNlLgovLyBZb3UgbWF5IG9idGFpbiBhIGNvcHkgb2YgdGhlIExpY2Vuc2UgYXQKLy8KLy8gICAgICBodHRwOi8vd3d3LmFwYWNoZS5vcmcvbGljZW5zZXMvTElDRU5TRS0yLjAKLy8KLy8gVW5sZXNzIHJlcXVpcmVkIGJ5IGFwcGxpY2FibGUgbGF3IG9yIGFncmVlZCB0byBpbiB3cml0aW5nLCBzb2Z0d2FyZQovLyBkaXN0cmlidXRlZCB1bmRlciB0aGUgTGljZW5zZSBpcyBkaXN0cmlidXRlZCBvbiBhbiAiQVMgSVMiIEJBU0lTLAovLyBXSVRIT1VUIFdBUlJBTlRJRVMgT1IgQ09ORElUSU9OUyBPRiBBTlkgS0lORCwgZWl0aGVyIGV4cHJlc3Mgb3IgaW1wbGllZC4KLy8gU2VlIHRoZSBMaWNlbnNlIGZvciB0aGUgc3BlY2lmaWMgbGFuZ3VhZ2UgZ292ZXJuaW5nIHBlcm1pc3Npb25zIGFuZAovLyBsaW1pdGF0aW9ucyB1bmRlciB0aGUgTGljZW5zZS4KCi8qKgogKiBAZmlsZW92ZXJ2aWV3IEhlbHBlcnMgZm9yIGdvb2dsZS5jb2xhYiBQeXRob24gbW9kdWxlLgogKi8KKGZ1bmN0aW9uKHNjb3BlKSB7CmZ1bmN0aW9uIHNwYW4odGV4dCwgc3R5bGVBdHRyaWJ1dGVzID0ge30pIHsKICBjb25zdCBlbGVtZW50ID0gZG9jdW1lbnQuY3JlYXRlRWxlbWVudCgnc3BhbicpOwogIGVsZW1lbnQudGV4dENvbnRlbnQgPSB0ZXh0OwogIGZvciAoY29uc3Qga2V5IG9mIE9iamVjdC5rZXlzKHN0eWxlQXR0cmlidXRlcykpIHsKICAgIGVsZW1lbnQuc3R5bGVba2V5XSA9IHN0eWxlQXR0cmlidXRlc1trZXldOwogIH0KICByZXR1cm4gZWxlbWVudDsKfQoKLy8gTWF4IG51bWJlciBvZiBieXRlcyB3aGljaCB3aWxsIGJlIHVwbG9hZGVkIGF0IGEgdGltZS4KY29uc3QgTUFYX1BBWUxPQURfU0laRSA9IDEwMCAqIDEwMjQ7CgpmdW5jdGlvbiBfdXBsb2FkRmlsZXMoaW5wdXRJZCwgb3V0cHV0SWQpIHsKICBjb25zdCBzdGVwcyA9IHVwbG9hZEZpbGVzU3RlcChpbnB1dElkLCBvdXRwdXRJZCk7CiAgY29uc3Qgb3V0cHV0RWxlbWVudCA9IGRvY3VtZW50LmdldEVsZW1lbnRCeUlkKG91dHB1dElkKTsKICAvLyBDYWNoZSBzdGVwcyBvbiB0aGUgb3V0cHV0RWxlbWVudCB0byBtYWtlIGl0IGF2YWlsYWJsZSBmb3IgdGhlIG5leHQgY2FsbAogIC8vIHRvIHVwbG9hZEZpbGVzQ29udGludWUgZnJvbSBQeXRob24uCiAgb3V0cHV0RWxlbWVudC5zdGVwcyA9IHN0ZXBzOwoKICByZXR1cm4gX3VwbG9hZEZpbGVzQ29udGludWUob3V0cHV0SWQpOwp9CgovLyBUaGlzIGlzIHJvdWdobHkgYW4gYXN5bmMgZ2VuZXJhdG9yIChub3Qgc3VwcG9ydGVkIGluIHRoZSBicm93c2VyIHlldCksCi8vIHdoZXJlIHRoZXJlIGFyZSBtdWx0aXBsZSBhc3luY2hyb25vdXMgc3RlcHMgYW5kIHRoZSBQeXRob24gc2lkZSBpcyBnb2luZwovLyB0byBwb2xsIGZvciBjb21wbGV0aW9uIG9mIGVhY2ggc3RlcC4KLy8gVGhpcyB1c2VzIGEgUHJvbWlzZSB0byBibG9jayB0aGUgcHl0aG9uIHNpZGUgb24gY29tcGxldGlvbiBvZiBlYWNoIHN0ZXAsCi8vIHRoZW4gcGFzc2VzIHRoZSByZXN1bHQgb2YgdGhlIHByZXZpb3VzIHN0ZXAgYXMgdGhlIGlucHV0IHRvIHRoZSBuZXh0IHN0ZXAuCmZ1bmN0aW9uIF91cGxvYWRGaWxlc0NvbnRpbnVlKG91dHB1dElkKSB7CiAgY29uc3Qgb3V0cHV0RWxlbWVudCA9IGRvY3VtZW50LmdldEVsZW1lbnRCeUlkKG91dHB1dElkKTsKICBjb25zdCBzdGVwcyA9IG91dHB1dEVsZW1lbnQuc3RlcHM7CgogIGNvbnN0IG5leHQgPSBzdGVwcy5uZXh0KG91dHB1dEVsZW1lbnQubGFzdFByb21pc2VWYWx1ZSk7CiAgcmV0dXJuIFByb21pc2UucmVzb2x2ZShuZXh0LnZhbHVlLnByb21pc2UpLnRoZW4oKHZhbHVlKSA9PiB7CiAgICAvLyBDYWNoZSB0aGUgbGFzdCBwcm9taXNlIHZhbHVlIHRvIG1ha2UgaXQgYXZhaWxhYmxlIHRvIHRoZSBuZXh0CiAgICAvLyBzdGVwIG9mIHRoZSBnZW5lcmF0b3IuCiAgICBvdXRwdXRFbGVtZW50Lmxhc3RQcm9taXNlVmFsdWUgPSB2YWx1ZTsKICAgIHJldHVybiBuZXh0LnZhbHVlLnJlc3BvbnNlOwogIH0pOwp9CgovKioKICogR2VuZXJhdG9yIGZ1bmN0aW9uIHdoaWNoIGlzIGNhbGxlZCBiZXR3ZWVuIGVhY2ggYXN5bmMgc3RlcCBvZiB0aGUgdXBsb2FkCiAqIHByb2Nlc3MuCiAqIEBwYXJhbSB7c3RyaW5nfSBpbnB1dElkIEVsZW1lbnQgSUQgb2YgdGhlIGlucHV0IGZpbGUgcGlja2VyIGVsZW1lbnQuCiAqIEBwYXJhbSB7c3RyaW5nfSBvdXRwdXRJZCBFbGVtZW50IElEIG9mIHRoZSBvdXRwdXQgZGlzcGxheS4KICogQHJldHVybiB7IUl0ZXJhYmxlPCFPYmplY3Q+fSBJdGVyYWJsZSBvZiBuZXh0IHN0ZXBzLgogKi8KZnVuY3Rpb24qIHVwbG9hZEZpbGVzU3RlcChpbnB1dElkLCBvdXRwdXRJZCkgewogIGNvbnN0IGlucHV0RWxlbWVudCA9IGRvY3VtZW50LmdldEVsZW1lbnRCeUlkKGlucHV0SWQpOwogIGlucHV0RWxlbWVudC5kaXNhYmxlZCA9IGZhbHNlOwoKICBjb25zdCBvdXRwdXRFbGVtZW50ID0gZG9jdW1lbnQuZ2V0RWxlbWVudEJ5SWQob3V0cHV0SWQpOwogIG91dHB1dEVsZW1lbnQuaW5uZXJIVE1MID0gJyc7CgogIGNvbnN0IHBpY2tlZFByb21pc2UgPSBuZXcgUHJvbWlzZSgocmVzb2x2ZSkgPT4gewogICAgaW5wdXRFbGVtZW50LmFkZEV2ZW50TGlzdGVuZXIoJ2NoYW5nZScsIChlKSA9PiB7CiAgICAgIHJlc29sdmUoZS50YXJnZXQuZmlsZXMpOwogICAgfSk7CiAgfSk7CgogIGNvbnN0IGNhbmNlbCA9IGRvY3VtZW50LmNyZWF0ZUVsZW1lbnQoJ2J1dHRvbicpOwogIGlucHV0RWxlbWVudC5wYXJlbnRFbGVtZW50LmFwcGVuZENoaWxkKGNhbmNlbCk7CiAgY2FuY2VsLnRleHRDb250ZW50ID0gJ0NhbmNlbCB1cGxvYWQnOwogIGNvbnN0IGNhbmNlbFByb21pc2UgPSBuZXcgUHJvbWlzZSgocmVzb2x2ZSkgPT4gewogICAgY2FuY2VsLm9uY2xpY2sgPSAoKSA9PiB7CiAgICAgIHJlc29sdmUobnVsbCk7CiAgICB9OwogIH0pOwoKICAvLyBXYWl0IGZvciB0aGUgdXNlciB0byBwaWNrIHRoZSBmaWxlcy4KICBjb25zdCBmaWxlcyA9IHlpZWxkIHsKICAgIHByb21pc2U6IFByb21pc2UucmFjZShbcGlja2VkUHJvbWlzZSwgY2FuY2VsUHJvbWlzZV0pLAogICAgcmVzcG9uc2U6IHsKICAgICAgYWN0aW9uOiAnc3RhcnRpbmcnLAogICAgfQogIH07CgogIGNhbmNlbC5yZW1vdmUoKTsKCiAgLy8gRGlzYWJsZSB0aGUgaW5wdXQgZWxlbWVudCBzaW5jZSBmdXJ0aGVyIHBpY2tzIGFyZSBub3QgYWxsb3dlZC4KICBpbnB1dEVsZW1lbnQuZGlzYWJsZWQgPSB0cnVlOwoKICBpZiAoIWZpbGVzKSB7CiAgICByZXR1cm4gewogICAgICByZXNwb25zZTogewogICAgICAgIGFjdGlvbjogJ2NvbXBsZXRlJywKICAgICAgfQogICAgfTsKICB9CgogIGZvciAoY29uc3QgZmlsZSBvZiBmaWxlcykgewogICAgY29uc3QgbGkgPSBkb2N1bWVudC5jcmVhdGVFbGVtZW50KCdsaScpOwogICAgbGkuYXBwZW5kKHNwYW4oZmlsZS5uYW1lLCB7Zm9udFdlaWdodDogJ2JvbGQnfSkpOwogICAgbGkuYXBwZW5kKHNwYW4oCiAgICAgICAgYCgke2ZpbGUudHlwZSB8fCAnbi9hJ30pIC0gJHtmaWxlLnNpemV9IGJ5dGVzLCBgICsKICAgICAgICBgbGFzdCBtb2RpZmllZDogJHsKICAgICAgICAgICAgZmlsZS5sYXN0TW9kaWZpZWREYXRlID8gZmlsZS5sYXN0TW9kaWZpZWREYXRlLnRvTG9jYWxlRGF0ZVN0cmluZygpIDoKICAgICAgICAgICAgICAgICAgICAgICAgICAgICAgICAgICAgJ24vYSd9IC0gYCkpOwogICAgY29uc3QgcGVyY2VudCA9IHNwYW4oJzAlIGRvbmUnKTsKICAgIGxpLmFwcGVuZENoaWxkKHBlcmNlbnQpOwoKICAgIG91dHB1dEVsZW1lbnQuYXBwZW5kQ2hpbGQobGkpOwoKICAgIGNvbnN0IGZpbGVEYXRhUHJvbWlzZSA9IG5ldyBQcm9taXNlKChyZXNvbHZlKSA9PiB7CiAgICAgIGNvbnN0IHJlYWRlciA9IG5ldyBGaWxlUmVhZGVyKCk7CiAgICAgIHJlYWRlci5vbmxvYWQgPSAoZSkgPT4gewogICAgICAgIHJlc29sdmUoZS50YXJnZXQucmVzdWx0KTsKICAgICAgfTsKICAgICAgcmVhZGVyLnJlYWRBc0FycmF5QnVmZmVyKGZpbGUpOwogICAgfSk7CiAgICAvLyBXYWl0IGZvciB0aGUgZGF0YSB0byBiZSByZWFkeS4KICAgIGxldCBmaWxlRGF0YSA9IHlpZWxkIHsKICAgICAgcHJvbWlzZTogZmlsZURhdGFQcm9taXNlLAogICAgICByZXNwb25zZTogewogICAgICAgIGFjdGlvbjogJ2NvbnRpbnVlJywKICAgICAgfQogICAgfTsKCiAgICAvLyBVc2UgYSBjaHVua2VkIHNlbmRpbmcgdG8gYXZvaWQgbWVzc2FnZSBzaXplIGxpbWl0cy4gU2VlIGIvNjIxMTU2NjAuCiAgICBsZXQgcG9zaXRpb24gPSAwOwogICAgd2hpbGUgKHBvc2l0aW9uIDwgZmlsZURhdGEuYnl0ZUxlbmd0aCkgewogICAgICBjb25zdCBsZW5ndGggPSBNYXRoLm1pbihmaWxlRGF0YS5ieXRlTGVuZ3RoIC0gcG9zaXRpb24sIE1BWF9QQVlMT0FEX1NJWkUpOwogICAgICBjb25zdCBjaHVuayA9IG5ldyBVaW50OEFycmF5KGZpbGVEYXRhLCBwb3NpdGlvbiwgbGVuZ3RoKTsKICAgICAgcG9zaXRpb24gKz0gbGVuZ3RoOwoKICAgICAgY29uc3QgYmFzZTY0ID0gYnRvYShTdHJpbmcuZnJvbUNoYXJDb2RlLmFwcGx5KG51bGwsIGNodW5rKSk7CiAgICAgIHlpZWxkIHsKICAgICAgICByZXNwb25zZTogewogICAgICAgICAgYWN0aW9uOiAnYXBwZW5kJywKICAgICAgICAgIGZpbGU6IGZpbGUubmFtZSwKICAgICAgICAgIGRhdGE6IGJhc2U2NCwKICAgICAgICB9LAogICAgICB9OwogICAgICBwZXJjZW50LnRleHRDb250ZW50ID0KICAgICAgICAgIGAke01hdGgucm91bmQoKHBvc2l0aW9uIC8gZmlsZURhdGEuYnl0ZUxlbmd0aCkgKiAxMDApfSUgZG9uZWA7CiAgICB9CiAgfQoKICAvLyBBbGwgZG9uZS4KICB5aWVsZCB7CiAgICByZXNwb25zZTogewogICAgICBhY3Rpb246ICdjb21wbGV0ZScsCiAgICB9CiAgfTsKfQoKc2NvcGUuZ29vZ2xlID0gc2NvcGUuZ29vZ2xlIHx8IHt9OwpzY29wZS5nb29nbGUuY29sYWIgPSBzY29wZS5nb29nbGUuY29sYWIgfHwge307CnNjb3BlLmdvb2dsZS5jb2xhYi5fZmlsZXMgPSB7CiAgX3VwbG9hZEZpbGVzLAogIF91cGxvYWRGaWxlc0NvbnRpbnVlLAp9Owp9KShzZWxmKTsK",
              "ok": true,
              "headers": [
                [
                  "content-type",
                  "application/javascript"
                ]
              ],
              "status": 200,
              "status_text": ""
            }
          },
          "base_uri": "https://localhost:8080/",
          "height": 73
        }
      },
      "source": [
        "from google.colab import files\n",
        "uploaded = files.upload()"
      ],
      "execution_count": null,
      "outputs": [
        {
          "output_type": "display_data",
          "data": {
            "text/html": [
              "\n",
              "     <input type=\"file\" id=\"files-a1584ff5-0212-4f11-9d10-badb1384bae2\" name=\"files[]\" multiple disabled\n",
              "        style=\"border:none\" />\n",
              "     <output id=\"result-a1584ff5-0212-4f11-9d10-badb1384bae2\">\n",
              "      Upload widget is only available when the cell has been executed in the\n",
              "      current browser session. Please rerun this cell to enable.\n",
              "      </output>\n",
              "      <script src=\"/nbextensions/google.colab/files.js\"></script> "
            ],
            "text/plain": [
              "<IPython.core.display.HTML object>"
            ]
          },
          "metadata": {
            "tags": []
          }
        },
        {
          "output_type": "stream",
          "text": [
            "Saving compas.csv to compas.csv\n"
          ],
          "name": "stdout"
        }
      ]
    },
    {
      "cell_type": "code",
      "metadata": {
        "id": "qYqJNS_3cwEN",
        "outputId": "64705858-9c3f-4b71-9b0c-7d0097d66eb2",
        "colab": {
          "base_uri": "https://localhost:8080/",
          "height": 299
        }
      },
      "source": [
        "df_compas = pd.read_csv(\"compas.csv\")\n",
        "df_compas.head()"
      ],
      "execution_count": null,
      "outputs": [
        {
          "output_type": "execute_result",
          "data": {
            "text/html": [
              "<div>\n",
              "<style scoped>\n",
              "    .dataframe tbody tr th:only-of-type {\n",
              "        vertical-align: middle;\n",
              "    }\n",
              "\n",
              "    .dataframe tbody tr th {\n",
              "        vertical-align: top;\n",
              "    }\n",
              "\n",
              "    .dataframe thead th {\n",
              "        text-align: right;\n",
              "    }\n",
              "</style>\n",
              "<table border=\"1\" class=\"dataframe\">\n",
              "  <thead>\n",
              "    <tr style=\"text-align: right;\">\n",
              "      <th></th>\n",
              "      <th>case_number</th>\n",
              "      <th>first_name</th>\n",
              "      <th>last_name</th>\n",
              "      <th>sex</th>\n",
              "      <th>age</th>\n",
              "      <th>age_category</th>\n",
              "      <th>race</th>\n",
              "      <th>juvenile_felony_count</th>\n",
              "      <th>juvenile_misdemeanors_count</th>\n",
              "      <th>juvenile_other_count</th>\n",
              "      <th>priors_count</th>\n",
              "      <th>charge_description</th>\n",
              "      <th>charge_degree</th>\n",
              "      <th>offense_date</th>\n",
              "      <th>screening_date</th>\n",
              "      <th>jail_in</th>\n",
              "      <th>jail_out</th>\n",
              "      <th>type_of_assessment</th>\n",
              "      <th>score</th>\n",
              "      <th>score_text</th>\n",
              "      <th>is_recidivist</th>\n",
              "      <th>prediction</th>\n",
              "    </tr>\n",
              "  </thead>\n",
              "  <tbody>\n",
              "    <tr>\n",
              "      <th>0</th>\n",
              "      <td>13011352CF10A</td>\n",
              "      <td>miguel</td>\n",
              "      <td>hernandez</td>\n",
              "      <td>Male</td>\n",
              "      <td>69</td>\n",
              "      <td>Greater than 45</td>\n",
              "      <td>Other</td>\n",
              "      <td>0</td>\n",
              "      <td>0</td>\n",
              "      <td>0</td>\n",
              "      <td>0</td>\n",
              "      <td>Aggravated Assault w/Firearm</td>\n",
              "      <td>F</td>\n",
              "      <td>8/13/2013</td>\n",
              "      <td>8/14/2013</td>\n",
              "      <td>8/13/2013 6:03</td>\n",
              "      <td>8/14/2013 5:41</td>\n",
              "      <td>Risk of Recidivism</td>\n",
              "      <td>1</td>\n",
              "      <td>Low</td>\n",
              "      <td>0</td>\n",
              "      <td>0</td>\n",
              "    </tr>\n",
              "    <tr>\n",
              "      <th>1</th>\n",
              "      <td>13001275CF10A</td>\n",
              "      <td>kevon</td>\n",
              "      <td>dixon</td>\n",
              "      <td>Male</td>\n",
              "      <td>34</td>\n",
              "      <td>25 - 45</td>\n",
              "      <td>African-American</td>\n",
              "      <td>0</td>\n",
              "      <td>0</td>\n",
              "      <td>0</td>\n",
              "      <td>0</td>\n",
              "      <td>Felony Battery w/Prior Convict</td>\n",
              "      <td>F</td>\n",
              "      <td>1/26/2013</td>\n",
              "      <td>1/27/2013</td>\n",
              "      <td>1/26/2013 3:45</td>\n",
              "      <td>2/5/2013 5:36</td>\n",
              "      <td>Risk of Recidivism</td>\n",
              "      <td>3</td>\n",
              "      <td>Low</td>\n",
              "      <td>1</td>\n",
              "      <td>0</td>\n",
              "    </tr>\n",
              "    <tr>\n",
              "      <th>2</th>\n",
              "      <td>13005330CF10A</td>\n",
              "      <td>ed</td>\n",
              "      <td>philo</td>\n",
              "      <td>Male</td>\n",
              "      <td>24</td>\n",
              "      <td>Less than 25</td>\n",
              "      <td>African-American</td>\n",
              "      <td>0</td>\n",
              "      <td>0</td>\n",
              "      <td>1</td>\n",
              "      <td>4</td>\n",
              "      <td>Possession of Cocaine</td>\n",
              "      <td>F</td>\n",
              "      <td>4/13/2013</td>\n",
              "      <td>4/14/2013</td>\n",
              "      <td>4/13/2013 4:58</td>\n",
              "      <td>4/14/2013 7:02</td>\n",
              "      <td>Risk of Recidivism</td>\n",
              "      <td>4</td>\n",
              "      <td>Low</td>\n",
              "      <td>1</td>\n",
              "      <td>0</td>\n",
              "    </tr>\n",
              "    <tr>\n",
              "      <th>3</th>\n",
              "      <td>13022355MM10A</td>\n",
              "      <td>marsha</td>\n",
              "      <td>miles</td>\n",
              "      <td>Male</td>\n",
              "      <td>44</td>\n",
              "      <td>25 - 45</td>\n",
              "      <td>Other</td>\n",
              "      <td>0</td>\n",
              "      <td>0</td>\n",
              "      <td>0</td>\n",
              "      <td>0</td>\n",
              "      <td>Battery</td>\n",
              "      <td>M</td>\n",
              "      <td>11/30/2013</td>\n",
              "      <td>11/30/2013</td>\n",
              "      <td>11/30/2013 4:50</td>\n",
              "      <td>12/1/2013 12:28</td>\n",
              "      <td>Risk of Recidivism</td>\n",
              "      <td>1</td>\n",
              "      <td>Low</td>\n",
              "      <td>0</td>\n",
              "      <td>0</td>\n",
              "    </tr>\n",
              "    <tr>\n",
              "      <th>4</th>\n",
              "      <td>14002304CF10A</td>\n",
              "      <td>edward</td>\n",
              "      <td>riddle</td>\n",
              "      <td>Male</td>\n",
              "      <td>41</td>\n",
              "      <td>25 - 45</td>\n",
              "      <td>Caucasian</td>\n",
              "      <td>0</td>\n",
              "      <td>0</td>\n",
              "      <td>0</td>\n",
              "      <td>14</td>\n",
              "      <td>Possession Burglary Tools</td>\n",
              "      <td>F</td>\n",
              "      <td>2/18/2014</td>\n",
              "      <td>2/19/2014</td>\n",
              "      <td>2/18/2014 5:08</td>\n",
              "      <td>2/24/2014 12:18</td>\n",
              "      <td>Risk of Recidivism</td>\n",
              "      <td>6</td>\n",
              "      <td>Medium</td>\n",
              "      <td>1</td>\n",
              "      <td>0</td>\n",
              "    </tr>\n",
              "  </tbody>\n",
              "</table>\n",
              "</div>"
            ],
            "text/plain": [
              "     case_number first_name  last_name  ... score_text  is_recidivist prediction\n",
              "0  13011352CF10A     miguel  hernandez  ...        Low              0          0\n",
              "1  13001275CF10A      kevon      dixon  ...        Low              1          0\n",
              "2  13005330CF10A         ed      philo  ...        Low              1          0\n",
              "3  13022355MM10A     marsha      miles  ...        Low              0          0\n",
              "4  14002304CF10A     edward     riddle  ...     Medium              1          0\n",
              "\n",
              "[5 rows x 22 columns]"
            ]
          },
          "metadata": {
            "tags": []
          },
          "execution_count": 6
        }
      ]
    },
    {
      "cell_type": "code",
      "metadata": {
        "id": "FDd9jzrXd4yx",
        "outputId": "9375d393-698b-4d2c-a439-e9923186a056",
        "colab": {
          "base_uri": "https://localhost:8080/",
          "height": 195
        }
      },
      "source": [
        "df_doj = pd.read_csv(\"DOJ_summary_statistics.csv\")\n",
        "df_doj.head()"
      ],
      "execution_count": null,
      "outputs": [
        {
          "output_type": "execute_result",
          "data": {
            "text/html": [
              "<div>\n",
              "<style scoped>\n",
              "    .dataframe tbody tr th:only-of-type {\n",
              "        vertical-align: middle;\n",
              "    }\n",
              "\n",
              "    .dataframe tbody tr th {\n",
              "        vertical-align: top;\n",
              "    }\n",
              "\n",
              "    .dataframe thead th {\n",
              "        text-align: right;\n",
              "    }\n",
              "</style>\n",
              "<table border=\"1\" class=\"dataframe\">\n",
              "  <thead>\n",
              "    <tr style=\"text-align: right;\">\n",
              "      <th></th>\n",
              "      <th>Offenses</th>\n",
              "      <th>All races</th>\n",
              "      <th>White</th>\n",
              "      <th>Black</th>\n",
              "      <th>American Indian</th>\n",
              "      <th>Asian</th>\n",
              "      <th>Year</th>\n",
              "    </tr>\n",
              "  </thead>\n",
              "  <tbody>\n",
              "    <tr>\n",
              "      <th>0</th>\n",
              "      <td>Murder and nonnegligent manslaughter</td>\n",
              "      <td>11200</td>\n",
              "      <td>5540</td>\n",
              "      <td>5430</td>\n",
              "      <td>120</td>\n",
              "      <td>110</td>\n",
              "      <td>2010</td>\n",
              "    </tr>\n",
              "    <tr>\n",
              "      <th>1</th>\n",
              "      <td>Forcible rape</td>\n",
              "      <td>20090</td>\n",
              "      <td>13210</td>\n",
              "      <td>6310</td>\n",
              "      <td>290</td>\n",
              "      <td>280</td>\n",
              "      <td>2010</td>\n",
              "    </tr>\n",
              "    <tr>\n",
              "      <th>2</th>\n",
              "      <td>Robbery</td>\n",
              "      <td>112300</td>\n",
              "      <td>48320</td>\n",
              "      <td>62020</td>\n",
              "      <td>790</td>\n",
              "      <td>1190</td>\n",
              "      <td>2010</td>\n",
              "    </tr>\n",
              "    <tr>\n",
              "      <th>3</th>\n",
              "      <td>Aggravated assault</td>\n",
              "      <td>408490</td>\n",
              "      <td>260770</td>\n",
              "      <td>136400</td>\n",
              "      <td>6100</td>\n",
              "      <td>5220</td>\n",
              "      <td>2010</td>\n",
              "    </tr>\n",
              "    <tr>\n",
              "      <th>4</th>\n",
              "      <td>Burglary</td>\n",
              "      <td>289770</td>\n",
              "      <td>195780</td>\n",
              "      <td>88740</td>\n",
              "      <td>2500</td>\n",
              "      <td>2750</td>\n",
              "      <td>2010</td>\n",
              "    </tr>\n",
              "  </tbody>\n",
              "</table>\n",
              "</div>"
            ],
            "text/plain": [
              "                               Offenses  All races  ...  Asian  Year\n",
              "0  Murder and nonnegligent manslaughter      11200  ...    110  2010\n",
              "1                         Forcible rape      20090  ...    280  2010\n",
              "2                               Robbery     112300  ...   1190  2010\n",
              "3                    Aggravated assault     408490  ...   5220  2010\n",
              "4                              Burglary     289770  ...   2750  2010\n",
              "\n",
              "[5 rows x 7 columns]"
            ]
          },
          "metadata": {
            "tags": []
          },
          "execution_count": 11
        }
      ]
    },
    {
      "cell_type": "code",
      "metadata": {
        "id": "zEzXKvUjd5Xq",
        "outputId": "5ff2e975-f53c-4759-a230-3e31cf1ca49c",
        "colab": {
          "base_uri": "https://localhost:8080/"
        }
      },
      "source": [
        "df_doj['Offenses']"
      ],
      "execution_count": null,
      "outputs": [
        {
          "output_type": "execute_result",
          "data": {
            "text/plain": [
              "0      Murder and nonnegligent manslaughter\n",
              "1                             Forcible rape\n",
              "2                                   Robbery\n",
              "3                        Aggravated assault\n",
              "4                                  Burglary\n",
              "                       ...                 \n",
              "247                                Vagrancy\n",
              "248     All other offenses (except traffic)\n",
              "249                    Curfew and loitering\n",
              "250                    Property Crime Index\n",
              "251                         Violent crimes*\n",
              "Name: Offenses, Length: 252, dtype: object"
            ]
          },
          "metadata": {
            "tags": []
          },
          "execution_count": 13
        }
      ]
    },
    {
      "cell_type": "markdown",
      "metadata": {
        "id": "WcZlW8txSbRJ"
      },
      "source": [
        "**Plot age - recidivism - score**"
      ]
    },
    {
      "cell_type": "code",
      "metadata": {
        "id": "S_OE6pdMksxr",
        "outputId": "59c7ffd2-6d89-4978-f0fa-7746bd4dc2a9",
        "colab": {
          "base_uri": "https://localhost:8080/"
        }
      },
      "source": [
        "unique_ages = df_compas['age_category'].unique()\n",
        "r = np.zeros((10,6))\n",
        "for (a,b,c) in zip(df_compas['age_category'],df_compas['is_recidivist'],df_compas['score']):\n",
        "    r[c-1,3*b+np.where(a == unique_ages)[0]] += 1\n",
        "print(r)\n",
        "print(unique_ages)"
      ],
      "execution_count": null,
      "outputs": [
        {
          "output_type": "stream",
          "text": [
            "[[896. 793.   4. 154. 155.   2.]\n",
            " [160. 666. 107.  46. 215.  35.]\n",
            " [ 91. 379. 201.  46. 171.  73.]\n",
            " [ 73. 331. 188.  43. 174. 117.]\n",
            " [ 61. 284. 133.  32. 168.  99.]\n",
            " [ 58. 211. 121.  46. 173. 103.]\n",
            " [ 50. 195. 109.  42. 183.  93.]\n",
            " [ 30. 153.  82.  31. 186.  95.]\n",
            " [ 30. 140.  81.  29. 189.  96.]\n",
            " [  5. 109.  55.  11. 153.  94.]]\n",
            "['Greater than 45' '25 - 45' 'Less than 25']\n"
          ],
          "name": "stdout"
        }
      ]
    },
    {
      "cell_type": "code",
      "metadata": {
        "id": "8UID21lgDKUq",
        "outputId": "e37ed423-7e02-41dc-8322-1e419eb26b8e",
        "colab": {
          "base_uri": "https://localhost:8080/",
          "height": 265
        }
      },
      "source": [
        "for i in range(6):\n",
        "    plt.bar(range(1,11),np.sum(r[:,:(6-i)],axis=1),label=unique_races[6-i-1])"
      ],
      "execution_count": null,
      "outputs": [
        {
          "output_type": "display_data",
          "data": {
            "image/png": "[encoded data removed]",
            "text/plain": [
              "<Figure size 432x288 with 1 Axes>"
            ]
          },
          "metadata": {
            "tags": [],
            "needs_background": "light"
          }
        }
      ]
    },
    {
      "cell_type": "markdown",
      "metadata": {
        "id": "agVqWAygSj86"
      },
      "source": [
        "**Plot specific race - recidivism - score**"
      ]
    },
    {
      "cell_type": "code",
      "metadata": {
        "id": "Rv4gHGc-FpJu",
        "outputId": "4fe70f24-751a-48bb-c6c6-7b01f4c44d36",
        "colab": {
          "base_uri": "https://localhost:8080/"
        }
      },
      "source": [
        "r = np.zeros((10,4))\n",
        "for (a,b,c) in zip(df_compas['race'],df_compas['is_recidivist'],df_compas['score']):\n",
        "    r[c-1,2*b+(1 if a == \"Caucasian\" else 0)] += 1 # Caucasian, African-American\n",
        "k = np.sum(r,axis=0)\n",
        "print(k)\n",
        "print(k[2]/k[0], k[3]/k[1])"
      ],
      "execution_count": null,
      "outputs": [
        {
          "output_type": "stream",
          "text": [
            "[3546. 2250. 2142.  912.]\n",
            "0.6040609137055838 0.4053333333333333\n"
          ],
          "name": "stdout"
        }
      ]
    },
    {
      "cell_type": "code",
      "metadata": {
        "id": "nOO3N4-gFpWm",
        "outputId": "0d22bd15-c02e-4607-b3e8-c807c1824874",
        "colab": {
          "base_uri": "https://localhost:8080/",
          "height": 265
        }
      },
      "source": [
        "for i in range(4):\n",
        "    plt.bar(range(1,11),np.sum(r[:,:(4-i)],axis=1),label=unique_races[4-i-1])"
      ],
      "execution_count": null,
      "outputs": [
        {
          "output_type": "display_data",
          "data": {
            "image/png": "[encoded data removed]",
            "text/plain": [
              "<Figure size 432x288 with 1 Axes>"
            ]
          },
          "metadata": {
            "tags": [],
            "needs_background": "light"
          }
        }
      ]
    },
    {
      "cell_type": "markdown",
      "metadata": {
        "id": "tOx4LjRXSvbJ"
      },
      "source": [
        "**Plot recidivism - score**"
      ]
    },
    {
      "cell_type": "code",
      "metadata": {
        "id": "GK-g-m7amnG_",
        "outputId": "c16696a7-a343-4da6-a0dd-8a035585922a",
        "colab": {
          "base_uri": "https://localhost:8080/"
        }
      },
      "source": [
        "r = np.zeros((10,2))\n",
        "for (a,b) in zip(df_compas['score'],df_compas['is_recidivist']):\n",
        "    r[a-1,b] += 1\n",
        "print(r)"
      ],
      "execution_count": null,
      "outputs": [
        {
          "output_type": "stream",
          "text": [
            "[[1693.  311.]\n",
            " [ 933.  296.]\n",
            " [ 671.  290.]\n",
            " [ 592.  334.]\n",
            " [ 478.  299.]\n",
            " [ 390.  322.]\n",
            " [ 354.  318.]\n",
            " [ 265.  312.]\n",
            " [ 251.  314.]\n",
            " [ 169.  258.]]\n"
          ],
          "name": "stdout"
        }
      ]
    },
    {
      "cell_type": "code",
      "metadata": {
        "id": "hUiRw-fkn2CT",
        "outputId": "3ef8c97c-cea5-447c-f3e5-0d13521dbaac",
        "colab": {
          "base_uri": "https://localhost:8080/",
          "height": 312
        }
      },
      "source": [
        "p1 = plt.bar(range(1,11),r[:,0]+r[:,1],label=\"Not recidivist\")\n",
        "p2 = plt.bar(range(1,11),r[:,1],label=\"Recidivist\")\n",
        "plt.legend()\n",
        "plt.xlabel(\"Current score\")\n",
        "plt.ylabel(\"Number of people\")\n",
        "plt.title('Recidivist in function of score')"
      ],
      "execution_count": null,
      "outputs": [
        {
          "output_type": "execute_result",
          "data": {
            "text/plain": [
              "Text(0.5, 1.0, 'Recidivist in function of score')"
            ]
          },
          "metadata": {
            "tags": []
          },
          "execution_count": 182
        },
        {
          "output_type": "display_data",
          "data": {
            "image/png": "[encoded data removed]",
            "text/plain": [
              "<Figure size 432x288 with 1 Axes>"
            ]
          },
          "metadata": {
            "tags": [],
            "needs_background": "light"
          }
        }
      ]
    },
    {
      "cell_type": "markdown",
      "metadata": {
        "id": "nymUDhKDS0rL"
      },
      "source": [
        "**Length of time in jail**"
      ]
    },
    {
      "cell_type": "code",
      "metadata": {
        "id": "kb7u3OMypfeX",
        "outputId": "9aefab1c-3793-410f-95c7-61a7d230da14",
        "colab": {
          "base_uri": "https://localhost:8080/",
          "height": 651
        }
      },
      "source": [
        "plt.hist([i.total_seconds()/(60*60*24) for i in pd.to_datetime(df_compas['jail_out'])-pd.to_datetime(df_compas['jail_in'])],bins=50)\n"
      ],
      "execution_count": null,
      "outputs": [
        {
          "output_type": "execute_result",
          "data": {
            "text/plain": [
              "(array([7.899e+03, 3.920e+02, 1.740e+02, 9.400e+01, 8.900e+01, 6.100e+01,\n",
              "        3.100e+01, 2.400e+01, 2.000e+01, 1.600e+01, 1.200e+01, 1.500e+01,\n",
              "        7.000e+00, 3.000e+00, 4.000e+00, 3.000e+00, 1.000e+00, 2.000e+00,\n",
              "        0.000e+00, 1.000e+00, 0.000e+00, 0.000e+00, 0.000e+00, 1.000e+00,\n",
              "        0.000e+00, 0.000e+00, 0.000e+00, 0.000e+00, 0.000e+00, 0.000e+00,\n",
              "        0.000e+00, 0.000e+00, 0.000e+00, 0.000e+00, 0.000e+00, 0.000e+00,\n",
              "        0.000e+00, 0.000e+00, 0.000e+00, 0.000e+00, 0.000e+00, 0.000e+00,\n",
              "        0.000e+00, 0.000e+00, 0.000e+00, 0.000e+00, 0.000e+00, 0.000e+00,\n",
              "        0.000e+00, 1.000e+00]),\n",
              " array([-4.87500000e-01,  4.25813194e+01,  8.56501389e+01,  1.28718958e+02,\n",
              "         1.71787778e+02,  2.14856597e+02,  2.57925417e+02,  3.00994236e+02,\n",
              "         3.44063056e+02,  3.87131875e+02,  4.30200694e+02,  4.73269514e+02,\n",
              "         5.16338333e+02,  5.59407153e+02,  6.02475972e+02,  6.45544792e+02,\n",
              "         6.88613611e+02,  7.31682431e+02,  7.74751250e+02,  8.17820069e+02,\n",
              "         8.60888889e+02,  9.03957708e+02,  9.47026528e+02,  9.90095347e+02,\n",
              "         1.03316417e+03,  1.07623299e+03,  1.11930181e+03,  1.16237063e+03,\n",
              "         1.20543944e+03,  1.24850826e+03,  1.29157708e+03,  1.33464590e+03,\n",
              "         1.37771472e+03,  1.42078354e+03,  1.46385236e+03,  1.50692118e+03,\n",
              "         1.54999000e+03,  1.59305882e+03,  1.63612764e+03,  1.67919646e+03,\n",
              "         1.72226528e+03,  1.76533410e+03,  1.80840292e+03,  1.85147174e+03,\n",
              "         1.89454056e+03,  1.93760938e+03,  1.98067819e+03,  2.02374701e+03,\n",
              "         2.06681583e+03,  2.10988465e+03,  2.15295347e+03]),\n",
              " <a list of 50 Patch objects>)"
            ]
          },
          "metadata": {
            "tags": []
          },
          "execution_count": 42
        },
        {
          "output_type": "display_data",
          "data": {
            "image/png": "[encoded data removed]",
            "text/plain": [
              "<Figure size 432x288 with 1 Axes>"
            ]
          },
          "metadata": {
            "tags": [],
            "needs_background": "light"
          }
        }
      ]
    },
    {
      "cell_type": "markdown",
      "metadata": {
        "id": "Dy74M5YiS5U3"
      },
      "source": [
        "**Race in function of score**"
      ]
    },
    {
      "cell_type": "code",
      "metadata": {
        "id": "Io8UTTlKq7QV"
      },
      "source": [
        "unique_races = df_compas['race'].unique()"
      ],
      "execution_count": null,
      "outputs": []
    },
    {
      "cell_type": "code",
      "metadata": {
        "id": "k3Gt3zDWtl62",
        "outputId": "1c3841c5-60c9-4243-c320-3362a15e2e7d",
        "colab": {
          "base_uri": "https://localhost:8080/"
        }
      },
      "source": [
        "dataraph = np.zeros((6,10))\n",
        "for (a,b) in zip(df_compas['race'],df_compas['score']):\n",
        "    dataraph[np.where(a == unique_races),b-1] += 1\n",
        "print(dataraph)"
      ],
      "execution_count": null,
      "outputs": [
        {
          "output_type": "stream",
          "text": [
            "[[226.  99.  45.  53.  31.  28.  15.   8.   9.   9.]\n",
            " [519. 487. 420. 446. 398. 430. 446. 409. 406. 319.]\n",
            " [947. 483. 381. 357. 288. 207. 165. 138. 121.  75.]\n",
            " [284. 147. 105.  67.  55.  40.  42.  18.  28.  20.]\n",
            " [ 24.   8.   5.   0.   4.   3.   1.   3.   0.   1.]\n",
            " [  4.   5.   5.   3.   1.   4.   3.   1.   1.   3.]]\n"
          ],
          "name": "stdout"
        }
      ]
    },
    {
      "cell_type": "code",
      "metadata": {
        "id": "lF1nKburs4OC",
        "outputId": "ae2e21c0-6e47-4199-c03b-cc604a7337e4",
        "colab": {
          "base_uri": "https://localhost:8080/",
          "height": 312
        }
      },
      "source": [
        "dataraphplot = dataraph/np.sum(dataraph,axis=0).reshape((1,10))\n",
        "for i in range(6):\n",
        "    plt.bar(range(1,11),100*np.sum(dataraphplot[:(6-i),:],axis=0),label=unique_races[6-i-1])\n",
        "plt.legend()\n",
        "plt.xlabel(\"Score\")\n",
        "plt.ylabel(\"Percentage\")\n",
        "plt.title('Race in function of score')\n"
      ],
      "execution_count": null,
      "outputs": [
        {
          "output_type": "execute_result",
          "data": {
            "text/plain": [
              "Text(0.5, 1.0, 'Race in function of score')"
            ]
          },
          "metadata": {
            "tags": []
          },
          "execution_count": 180
        },
        {
          "output_type": "display_data",
          "data": {
            "image/png": "[encoded data removed]",
            "text/plain": [
              "<Figure size 432x288 with 1 Axes>"
            ]
          },
          "metadata": {
            "tags": [],
            "needs_background": "light"
          }
        }
      ]
    },
    {
      "cell_type": "markdown",
      "metadata": {
        "id": "cd1Ycrz8TB2n"
      },
      "source": [
        "**Simple least square model, bias**"
      ]
    },
    {
      "cell_type": "code",
      "metadata": {
        "id": "EOJJw5ts0jTt"
      },
      "source": [
        "learnFr = 7000\n",
        "ind = np.random.choice(8850, 8850)\n",
        "ind_tr = ind[:learnFr]\n",
        "ind_te = ind[learnFr:]\n",
        "\n",
        "categories = np.zeros((8850, 1+2+1+5+1+1))\n",
        "unique_sexes = df_compas['sex'].unique()\n",
        "unique_ages = df_compas['age_category'].unique()\n",
        "unique_charges = df_compas['charge_degree'].unique()\n",
        "unique_races = df_compas['race'].unique()\n",
        "for i, sex, age, sev, race, prior in zip(range(8850),df_compas['sex'], df_compas['age_category'], df_compas['charge_degree'], df_compas['race'], df_compas['priors_count']):\n",
        "    categories[i,np.where(sex == unique_sexes[0])[0]] = 1\n",
        "    categories[i,1+np.where(age == unique_ages[:2])[0]] = 1\n",
        "    categories[i,3+np.where(sev == unique_charges[0])[0]] = 1\n",
        "    categories[i,4+np.where(race == unique_races[:5])[0]] = 1\n",
        "    categories[i,-2] = prior\n",
        "    categories[i,-1] = 1\n",
        "\n",
        "x = np.linalg.lstsq(categories[ind_tr,:],df_compas['score'][ind_tr],rcond=None)[0]"
      ],
      "execution_count": null,
      "outputs": []
    },
    {
      "cell_type": "code",
      "metadata": {
        "id": "rtaeuZe459Ph",
        "outputId": "8b045379-66af-4664-960c-43c27055a82f",
        "colab": {
          "base_uri": "https://localhost:8080/"
        }
      },
      "source": [
        "for i,j in zip(x,np.concatenate( (unique_sexes[:1],unique_ages[:2],unique_charges[:1],unique_races[:5],[\"prior\",\"constant\"]))):\n",
        "    print(j,\"\\t\",i)\n",
        "print(unique_sexes[1],\",\",unique_ages[2],\",\",unique_charges[1],\",\",unique_races[5],\"are zero\")"
      ],
      "execution_count": null,
      "outputs": [
        {
          "output_type": "stream",
          "text": [
            "Male \t -0.1345130709550963\n",
            "Greater than 45 \t -3.3404316963626273\n",
            "25 - 45 \t -1.8670893356360194\n",
            "F \t 0.716935719333891\n",
            "Other \t -1.0223655658896067\n",
            "African-American \t 0.5250950356288548\n",
            "Caucasian \t -0.14860453920452826\n",
            "Hispanic \t -0.5370688827096978\n",
            "Asian \t -0.44773705569922584\n",
            "prior \t 0.277032791497672\n",
            "constant \t 4.82669638942986\n",
            "Female , Less than 25 , M , Native American are zero\n"
          ],
          "name": "stdout"
        }
      ]
    },
    {
      "cell_type": "code",
      "metadata": {
        "id": "W4eyEr_I9OVw",
        "outputId": "384ef6b3-c110-4cf6-cb1a-1b61d5ca597b",
        "colab": {
          "base_uri": "https://localhost:8080/"
        }
      },
      "source": [
        "correctness = np.zeros((14,10))\n",
        "for i,j in zip(range(8850-7000),ind_te):\n",
        "    correctness[int(round(categories[j,:].dot(x))), df_compas['score'][j]-1] += 1\n",
        "print(correctness)\n"
      ],
      "execution_count": null,
      "outputs": [
        {
          "output_type": "stream",
          "text": [
            "[[  8.   0.   1.   0.   0.   0.   0.   0.   0.   0.]\n",
            " [100.   9.   3.   1.   1.   1.   0.   0.   0.   0.]\n",
            " [104.  31.  14.  10.   9.   6.   6.   4.   1.   0.]\n",
            " [126.  95.  55.  47.  34.  24.  13.   9.   4.   1.]\n",
            " [ 67.  80.  44.  51.  39.  22.  27.  19.  17.   5.]\n",
            " [ 12.  27.  35.  58.  44.  35.  35.  32.  25.  17.]\n",
            " [  3.  14.  38.  41.  37.  37.  47.  25.  25.  20.]\n",
            " [  0.   1.   5.   6.   5.  12.  11.  19.  14.  10.]\n",
            " [  0.   0.   0.   2.   1.   1.   4.   5.   9.   7.]\n",
            " [  0.   0.   0.   0.   0.   2.   2.   6.   7.   5.]\n",
            " [  0.   0.   0.   0.   0.   0.   0.   2.   4.   2.]\n",
            " [  0.   0.   0.   0.   0.   0.   1.   2.   3.   3.]\n",
            " [  0.   0.   0.   0.   0.   0.   0.   0.   1.   2.]\n",
            " [  0.   0.   0.   0.   0.   0.   1.   0.   0.   0.]]\n"
          ],
          "name": "stdout"
        }
      ]
    }
  ]
}